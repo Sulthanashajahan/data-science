{
  "nbformat": 4,
  "nbformat_minor": 0,
  "metadata": {
    "colab": {
      "name": "Copy of Untitled2.ipynb",
      "provenance": [],
      "collapsed_sections": [],
      "authorship_tag": "ABX9TyMXV2g0LbUQIg9l2F/XWnIF",
      "include_colab_link": true
    },
    "kernelspec": {
      "name": "python3",
      "display_name": "Python 3"
    },
    "language_info": {
      "name": "python"
    }
  },
  "cells": [
    {
      "cell_type": "markdown",
      "metadata": {
        "id": "view-in-github",
        "colab_type": "text"
      },
      "source": [
        "<a href=\"https://colab.research.google.com/github/Sulthanashajahan/data-science/blob/main/Copy_of_Untitled2.ipynb\" target=\"_parent\"><img src=\"https://colab.research.google.com/assets/colab-badge.svg\" alt=\"Open In Colab\"/></a>"
      ]
    },
    {
      "cell_type": "code",
      "execution_count": null,
      "metadata": {
        "colab": {
          "base_uri": "https://localhost:8080/"
        },
        "id": "MkOQb6XXZrMF",
        "outputId": "88e0f143-a51d-49f6-ded1-892270464a5f"
      },
      "outputs": [
        {
          "output_type": "stream",
          "name": "stdout",
          "text": [
            "['good', 'better', 'great', 'fantastic', 'super']\n"
          ]
        }
      ],
      "source": [
        "positive=\"good better great fantastic super\"\n",
        "negative=\"bad ugly worst\"\n",
        "sentence=\"it is great to hear\"\n",
        "plist=positive.split()\n",
        "print(plist)"
      ]
    },
    {
      "cell_type": "code",
      "source": [
        "nlist=negative.split()\n",
        "print(nlist)"
      ],
      "metadata": {
        "colab": {
          "base_uri": "https://localhost:8080/"
        },
        "id": "dGUnrU3DcLd6",
        "outputId": "7c352bed-86e6-43ec-db56-3f77bb84c8dc"
      },
      "execution_count": null,
      "outputs": [
        {
          "output_type": "stream",
          "name": "stdout",
          "text": [
            "['bad', 'ugly', 'worst']\n"
          ]
        }
      ]
    },
    {
      "cell_type": "code",
      "source": [
        "slist=sentence.split()\n",
        "print(slist)"
      ],
      "metadata": {
        "colab": {
          "base_uri": "https://localhost:8080/"
        },
        "id": "seWgxI2UcZNR",
        "outputId": "83c17b31-667a-4ee4-a6e8-47073d866c20"
      },
      "execution_count": null,
      "outputs": [
        {
          "output_type": "stream",
          "name": "stdout",
          "text": [
            "['it', 'is', 'great', 'to', 'hear']\n"
          ]
        }
      ]
    },
    {
      "cell_type": "code",
      "source": [
        "pom=set(plist)&set(slist)\n",
        "print(pom)"
      ],
      "metadata": {
        "colab": {
          "base_uri": "https://localhost:8080/"
        },
        "id": "Y_esZC7-cokd",
        "outputId": "911a9398-9fd3-473a-b728-b5875f953e1c"
      },
      "execution_count": null,
      "outputs": [
        {
          "output_type": "stream",
          "name": "stdout",
          "text": [
            "{'great'}\n"
          ]
        }
      ]
    },
    {
      "cell_type": "code",
      "source": [
        "pom=len(set(plist)&set(slist))\n",
        "nom=len(set(nlist)&set(slist))\n",
        "print(pom)\n",
        "print(nom)"
      ],
      "metadata": {
        "colab": {
          "base_uri": "https://localhost:8080/"
        },
        "id": "UHY0CRCsczkN",
        "outputId": "fa3e2946-2ece-47f8-bcf8-cb50fbda8463"
      },
      "execution_count": null,
      "outputs": [
        {
          "output_type": "stream",
          "name": "stdout",
          "text": [
            "1\n",
            "0\n"
          ]
        }
      ]
    },
    {
      "cell_type": "code",
      "source": [
        "if pom>nom:\n",
        "  print('positive')\n",
        "elif nom>pom:\n",
        "  print('negative')\n",
        "else:\n",
        "  print(\"neutral\")"
      ],
      "metadata": {
        "colab": {
          "base_uri": "https://localhost:8080/"
        },
        "id": "73q7M32KdTJo",
        "outputId": "dc8b4673-14b1-45a0-efae-05d6bfc8db01"
      },
      "execution_count": null,
      "outputs": [
        {
          "output_type": "stream",
          "name": "stdout",
          "text": [
            "positive\n"
          ]
        }
      ]
    },
    {
      "cell_type": "code",
      "source": [
        "from gensim.parsing.preprocessing import remove_stopwords\n",
        "remaining=remove_stopwords(sentence)\n",
        "print(remaining)"
      ],
      "metadata": {
        "colab": {
          "base_uri": "https://localhost:8080/"
        },
        "id": "uuhdrXLvduqA",
        "outputId": "d4290f92-53b1-4fcf-9fe5-49886afc873d"
      },
      "execution_count": null,
      "outputs": [
        {
          "output_type": "stream",
          "name": "stdout",
          "text": [
            "great hear\n"
          ]
        }
      ]
    },
    {
      "cell_type": "code",
      "source": [
        "print(slist)\n",
        "for pdata in plist:\n",
        "  for sdata in slist:\n",
        "    print(pdata,'---->',sdata)"
      ],
      "metadata": {
        "colab": {
          "base_uri": "https://localhost:8080/"
        },
        "id": "xZr3luIBnuIt",
        "outputId": "49b66078-e8f2-4463-e74f-621ae52acd55"
      },
      "execution_count": null,
      "outputs": [
        {
          "output_type": "stream",
          "name": "stdout",
          "text": [
            "['it', 'is', 'great', 'to', 'hear']\n",
            "good ----> it\n",
            "good ----> is\n",
            "good ----> great\n",
            "good ----> to\n",
            "good ----> hear\n",
            "better ----> it\n",
            "better ----> is\n",
            "better ----> great\n",
            "better ----> to\n",
            "better ----> hear\n",
            "great ----> it\n",
            "great ----> is\n",
            "great ----> great\n",
            "great ----> to\n",
            "great ----> hear\n",
            "fantastic ----> it\n",
            "fantastic ----> is\n",
            "fantastic ----> great\n",
            "fantastic ----> to\n",
            "fantastic ----> hear\n",
            "super ----> it\n",
            "super ----> is\n",
            "super ----> great\n",
            "super ----> to\n",
            "super ----> hear\n"
          ]
        }
      ]
    },
    {
      "cell_type": "code",
      "source": [
        ""
      ],
      "metadata": {
        "id": "3tBVYxX_oWgv"
      },
      "execution_count": null,
      "outputs": []
    },
    {
      "cell_type": "code",
      "source": [
        "import nltk\n",
        "nltk.download('punkt')\n",
        "from nltk import NaiveBayesClassifier as nbc\n",
        "\n",
        "\n",
        "from nltk.tokenize import word_tokenize\n",
        "\n",
        "\n",
        "from itertools import chain\n",
        "\n",
        "\n",
        "import csv\n",
        "\n",
        "\n",
        "\n",
        "with open('trainingdata.csv','r') as csvinput:\n",
        "\n",
        "\n",
        "    reader=csv.reader(csvinput,delimiter=\",\")\n",
        "\n",
        "\n",
        "    rownum = 0 \n",
        "\n",
        "\n",
        "    training_data = []\n",
        "\n",
        "\n",
        "\n",
        "    for row in reader:\n",
        "\n",
        "\n",
        "        training_data.append (row)\n",
        "\n",
        "\n",
        "        rownum += 1\n",
        "\n",
        "\n",
        "\n",
        "vocabulary = set(chain(*[word_tokenize(i[0].lower()) for i in training_data]))\n",
        "\n",
        "\n",
        "\n",
        "feature_set = [({i:(i in word_tokenize(sentence.lower())) for i in vocabulary},tag) for sentence, tag in training_data]\n",
        "\n",
        "\n",
        "\n",
        "classifier = nbc.train(feature_set)\n",
        "\n",
        "\n",
        "\n",
        "with open('testdata.csv','r') as csvinput:\n",
        "\n",
        "\n",
        "    with open('data.csv', 'w') as csvoutput:\n",
        "\n",
        "\n",
        "        writer = csv.writer(csvoutput, lineterminator='\\n')\n",
        "\n",
        "\n",
        "        reader1 = csv.reader(csvinput)\n",
        "\n",
        "\n",
        "\n",
        "        all = []\n",
        "\n",
        "\n",
        "        row = next(reader1)\n",
        "\n",
        "\n",
        "        \n",
        "\n",
        "\n",
        "\n",
        "        for row in reader1:\n",
        "\n",
        "\n",
        "            test_sentence = row[1]\n",
        "\n",
        "\n",
        "            featurized_test_sentence =  {i:(i in word_tokenize(test_sentence.lower())) for i in vocabulary}\n",
        "\n",
        "\n",
        "            print (\"test_sent:\",test_sentence)\n",
        "\n",
        "\n",
        "            print (\"tag:\",classifier.classify(featurized_test_sentence))\n",
        "\n",
        "\n",
        "            row.append(classifier.classify(featurized_test_sentence))\n",
        "\n",
        "\n",
        "            all.append(row)\n",
        "\n",
        "\n",
        "        writer.writerows(all)\n"
      ],
      "metadata": {
        "colab": {
          "base_uri": "https://localhost:8080/"
        },
        "id": "ZW1zF-er1GcP",
        "outputId": "5134871c-e1ba-4787-cbad-5115bb4d2031"
      },
      "execution_count": null,
      "outputs": [
        {
          "output_type": "stream",
          "name": "stdout",
          "text": [
            "[nltk_data] Downloading package punkt to /root/nltk_data...\n",
            "[nltk_data]   Package punkt is already up-to-date!\n",
            "test_sent: bad worst poor cry \n",
            "tag: negative \n",
            "test_sent: charm happy\n",
            "tag: positive\n"
          ]
        }
      ]
    }
  ]
}